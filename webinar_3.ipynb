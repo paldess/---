{
 "cells": [
  {
   "cell_type": "markdown",
   "metadata": {
    "id": "y-NKXfLpIHyS"
   },
   "source": [
    "# Вебинар 3. Коллаборативная фильтрация"
   ]
  },
  {
   "cell_type": "markdown",
   "metadata": {
    "id": "2wqsdRrTIHyc"
   },
   "source": [
    "Исчерпывающую информацию с теорией, кодом и примерами можно найти в [статье](https://www.ethanrosenthal.com/2016/10/19/implicit-mf-part-1/)"
   ]
  },
  {
   "cell_type": "code",
   "execution_count": 1,
   "metadata": {
    "colab": {
     "base_uri": "https://localhost:8080/"
    },
    "executionInfo": {
     "elapsed": 755,
     "status": "ok",
     "timestamp": 1611332959412,
     "user": {
      "displayName": "Георгий Дёмин",
      "photoUrl": "",
      "userId": "17069268476759705477"
     },
     "user_tz": -180
    },
    "id": "UT0Qfv9u7WYx",
    "outputId": "dcecbbff-5109-4218-db64-255644814cd7"
   },
   "outputs": [
    {
     "name": "stdout",
     "output_type": "stream",
     "text": [
      "\n",
      "UNRAR 5.50 freeware      Copyright (c) 1993-2017 Alexander Roshal\n",
      "\n",
      "\n",
      "Extracting from src.rar\n",
      "\n",
      "Extracting  __init__.py                                                  \b\b\b\b  5%\b\b\b\b\b  OK \n",
      "Extracting  metrics.py                                                   \b\b\b\b 25%\b\b\b\b\b  OK \n",
      "Extracting  utils.py                                                     \b\b\b\b 45%\b\b\b\b\b  OK \n",
      "Extracting  __init__.cpython-36.pyc                                      \b\b\b\b 50%\b\b\b\b\b  OK \n",
      "Extracting  metrics.cpython-36.pyc                                       \b\b\b\b 82%\b\b\b\b\b  OK \n",
      "Extracting  utils.cpython-36.pyc                                         \b\b\b\b 93%\b\b\b\b\b  OK \n",
      "All OK\n"
     ]
    }
   ],
   "source": [
    "!unrar e src.rar"
   ]
  },
  {
   "cell_type": "markdown",
   "metadata": {
    "id": "6ovfF6vdIHyd"
   },
   "source": [
    "# 1. Матричная факторизация"
   ]
  },
  {
   "cell_type": "markdown",
   "metadata": {
    "id": "PvC1iGQgIHyd"
   },
   "source": [
    "Раскладываем user-item матрицу на 2: матрицу латентных факторов юзеров и матрицу латентных факторов товаров\n",
    "\n",
    "- латентый фактор = эмбеддинг (embedding)    "
   ]
  },
  {
   "cell_type": "markdown",
   "metadata": {
    "id": "6TAuWYOrIHye"
   },
   "source": [
    "![mf.png](attachment:mf.png)"
   ]
  },
  {
   "cell_type": "code",
   "execution_count": null,
   "metadata": {
    "id": "vajoskDnIHye"
   },
   "outputs": [],
   "source": [
    "(UхI) = (Uхk) * (kхI) "
   ]
  },
  {
   "cell_type": "markdown",
   "metadata": {
    "id": "wJxPaKgQIHyf"
   },
   "source": [
    "---"
   ]
  },
  {
   "cell_type": "markdown",
   "metadata": {
    "id": "_boxK1R8IHyf"
   },
   "source": [
    "## Alternating Least Squares (ALS)"
   ]
  },
  {
   "cell_type": "markdown",
   "metadata": {
    "id": "p4gLl-bhIHyg"
   },
   "source": [
    "![als_formula.png](attachment:als_formula.png)"
   ]
  },
  {
   "cell_type": "markdown",
   "metadata": {
    "id": "v5JZh2OlIHyg"
   },
   "source": [
    "$x_u^T$ - user embeddings  \n",
    "$y_i$ - item embeddings  \n",
    "$p_{ui}$ - 0/1. 1 - если в матрице user-item эдемент > 0 (было взаимодействие)  \n",
    "$c_{ui}$ - Вес ошибки = элемент матрицы user-item  \n",
    "$\\lambda_x$, $\\lambda_y$ - коэффициенты регуляризации  "
   ]
  },
  {
   "cell_type": "markdown",
   "metadata": {
    "id": "fMy8aBzGIHyg"
   },
   "source": [
    "**Алгоритм**  \n",
    "ALS - лишь способ оптимизации (поиска коэффициентов в эмбеддингах):  \n",
    "\n",
    "1. Фиксируем эмбеддинги юзеров $x_u^T$ --> легко посчитать производную по эмбеддингам товаров $y_i$\n",
    "2. Обновляем эмбеддинги товаров (делаем шаг по антиградиенту = градиентный спуск)\n",
    "3. Фиксируем эмбеддинги товаров $y_i$ --> легко посчитать производную по эмбеддингам юзеров $x_u^T$\n",
    "4. Обновляем эмбеддинги юзеров (делаем шаг по антиградиенту = градиентный спуск)\n",
    "5. Повторяем, пока процедура не сойдется"
   ]
  },
  {
   "cell_type": "markdown",
   "metadata": {
    "id": "7BIbRcukIHyh"
   },
   "source": [
    "**Плюсы**\n",
    "- Очень быстрый\n",
    "- В продакшене можно зафиксировать на весь день эмбеддинги товаров (товары за день не меняются), \n",
    "    и в реал-тайм обновлять эмбеддинги юзеров при покупке\n",
    "- Есть решуляризация $\\lambda_x$, $\\lambda_y$\n",
    "- Есть веса ошибок $с_{u_i}$ - элементы матрицы user-item\n",
    "- Библиотека implicit под капотом использует Cyton - очень быстро работает\n",
    "- Predict для *всех* юзеров можно сделать прост оперемножением 2-ух матриц - очень быстро\n",
    "- Можно применять различные **взвешивания** матрицы: TF-IDF, BM25, ... . Это сильно улучшает качество"
   ]
  },
  {
   "cell_type": "markdown",
   "metadata": {
    "id": "XvVWxLAcIHyh"
   },
   "source": [
    "### 1. Базовое применение"
   ]
  },
  {
   "cell_type": "code",
   "execution_count": 1,
   "metadata": {
    "id": "gdbpCE-gIHyi"
   },
   "outputs": [],
   "source": [
    "import pandas as pd\n",
    "import numpy as np\n",
    "import matplotlib.pyplot as plt\n",
    "%matplotlib inline\n",
    "\n",
    "# Для работы с матрицами\n",
    "from scipy.sparse import csr_matrix\n",
    "\n",
    "# Матричная факторизация\n",
    "from implicit.als import AlternatingLeastSquares\n",
    "from implicit.nearest_neighbours import bm25_weight, tfidf_weight\n",
    "\n",
    "# Функции из 1-ого вебинара\n",
    "import os, sys\n",
    "\n",
    "# module_path = os.path.abspath(os.path.join(os.pardir))\n",
    "# if module_path not in sys.path:\n",
    "#     sys.path.append(module_path)\n",
    "sys.path.append('../')\n",
    "    \n",
    "from metrics import precision_at_k, recall_at_k"
   ]
  },
  {
   "cell_type": "code",
   "execution_count": 2,
   "metadata": {
    "id": "2IhaU8JDIHyi",
    "outputId": "a3a22636-04a2-4ad4-9774-e0c5cbcd6a09"
   },
   "outputs": [
    {
     "data": {
      "text/html": [
       "<div>\n",
       "<style scoped>\n",
       "    .dataframe tbody tr th:only-of-type {\n",
       "        vertical-align: middle;\n",
       "    }\n",
       "\n",
       "    .dataframe tbody tr th {\n",
       "        vertical-align: top;\n",
       "    }\n",
       "\n",
       "    .dataframe thead th {\n",
       "        text-align: right;\n",
       "    }\n",
       "</style>\n",
       "<table border=\"1\" class=\"dataframe\">\n",
       "  <thead>\n",
       "    <tr style=\"text-align: right;\">\n",
       "      <th></th>\n",
       "      <th>user_id</th>\n",
       "      <th>basket_id</th>\n",
       "      <th>day</th>\n",
       "      <th>item_id</th>\n",
       "      <th>quantity</th>\n",
       "      <th>sales_value</th>\n",
       "      <th>store_id</th>\n",
       "      <th>retail_disc</th>\n",
       "      <th>trans_time</th>\n",
       "      <th>week_no</th>\n",
       "      <th>coupon_disc</th>\n",
       "      <th>coupon_match_disc</th>\n",
       "    </tr>\n",
       "  </thead>\n",
       "  <tbody>\n",
       "    <tr>\n",
       "      <th>0</th>\n",
       "      <td>2375</td>\n",
       "      <td>26984851472</td>\n",
       "      <td>1</td>\n",
       "      <td>1004906</td>\n",
       "      <td>1</td>\n",
       "      <td>1.39</td>\n",
       "      <td>364</td>\n",
       "      <td>-0.6</td>\n",
       "      <td>1631</td>\n",
       "      <td>1</td>\n",
       "      <td>0.0</td>\n",
       "      <td>0.0</td>\n",
       "    </tr>\n",
       "    <tr>\n",
       "      <th>1</th>\n",
       "      <td>2375</td>\n",
       "      <td>26984851472</td>\n",
       "      <td>1</td>\n",
       "      <td>1033142</td>\n",
       "      <td>1</td>\n",
       "      <td>0.82</td>\n",
       "      <td>364</td>\n",
       "      <td>0.0</td>\n",
       "      <td>1631</td>\n",
       "      <td>1</td>\n",
       "      <td>0.0</td>\n",
       "      <td>0.0</td>\n",
       "    </tr>\n",
       "  </tbody>\n",
       "</table>\n",
       "</div>"
      ],
      "text/plain": [
       "   user_id    basket_id  day  item_id  quantity  sales_value  store_id  \\\n",
       "0     2375  26984851472    1  1004906         1         1.39       364   \n",
       "1     2375  26984851472    1  1033142         1         0.82       364   \n",
       "\n",
       "   retail_disc  trans_time  week_no  coupon_disc  coupon_match_disc  \n",
       "0         -0.6        1631        1          0.0                0.0  \n",
       "1          0.0        1631        1          0.0                0.0  "
      ]
     },
     "execution_count": 2,
     "metadata": {},
     "output_type": "execute_result"
    }
   ],
   "source": [
    "data = pd.read_csv('../data/transaction_data.csv')\n",
    "\n",
    "data.columns = [col.lower() for col in data.columns]\n",
    "data.rename(columns={'household_key': 'user_id',\n",
    "                    'product_id': 'item_id'},\n",
    "           inplace=True)\n",
    "\n",
    "\n",
    "test_size_weeks = 3\n",
    "\n",
    "data_train = data[data['week_no'] < data['week_no'].max() - test_size_weeks]\n",
    "data_test = data[data['week_no'] >= data['week_no'].max() - test_size_weeks]\n",
    "\n",
    "data_train.head(2)"
   ]
  },
  {
   "cell_type": "code",
   "execution_count": 3,
   "metadata": {
    "id": "2Csvjg-jIHyk",
    "outputId": "75eeddbb-bdc1-401e-bfcf-6a66ae46b3a3"
   },
   "outputs": [
    {
     "data": {
      "text/html": [
       "<div>\n",
       "<style scoped>\n",
       "    .dataframe tbody tr th:only-of-type {\n",
       "        vertical-align: middle;\n",
       "    }\n",
       "\n",
       "    .dataframe tbody tr th {\n",
       "        vertical-align: top;\n",
       "    }\n",
       "\n",
       "    .dataframe thead th {\n",
       "        text-align: right;\n",
       "    }\n",
       "</style>\n",
       "<table border=\"1\" class=\"dataframe\">\n",
       "  <thead>\n",
       "    <tr style=\"text-align: right;\">\n",
       "      <th></th>\n",
       "      <th>item_id</th>\n",
       "      <th>manufacturer</th>\n",
       "      <th>department</th>\n",
       "      <th>brand</th>\n",
       "      <th>commodity_desc</th>\n",
       "      <th>sub_commodity_desc</th>\n",
       "      <th>curr_size_of_product</th>\n",
       "    </tr>\n",
       "  </thead>\n",
       "  <tbody>\n",
       "    <tr>\n",
       "      <th>0</th>\n",
       "      <td>25671</td>\n",
       "      <td>2</td>\n",
       "      <td>GROCERY</td>\n",
       "      <td>National</td>\n",
       "      <td>FRZN ICE</td>\n",
       "      <td>ICE - CRUSHED/CUBED</td>\n",
       "      <td>22 LB</td>\n",
       "    </tr>\n",
       "    <tr>\n",
       "      <th>1</th>\n",
       "      <td>26081</td>\n",
       "      <td>2</td>\n",
       "      <td>MISC. TRANS.</td>\n",
       "      <td>National</td>\n",
       "      <td>NO COMMODITY DESCRIPTION</td>\n",
       "      <td>NO SUBCOMMODITY DESCRIPTION</td>\n",
       "      <td></td>\n",
       "    </tr>\n",
       "  </tbody>\n",
       "</table>\n",
       "</div>"
      ],
      "text/plain": [
       "   item_id  manufacturer    department     brand            commodity_desc  \\\n",
       "0    25671             2       GROCERY  National                  FRZN ICE   \n",
       "1    26081             2  MISC. TRANS.  National  NO COMMODITY DESCRIPTION   \n",
       "\n",
       "            sub_commodity_desc curr_size_of_product  \n",
       "0          ICE - CRUSHED/CUBED                22 LB  \n",
       "1  NO SUBCOMMODITY DESCRIPTION                       "
      ]
     },
     "execution_count": 3,
     "metadata": {},
     "output_type": "execute_result"
    }
   ],
   "source": [
    "item_features = pd.read_csv('../data/product.csv')\n",
    "item_features.columns = [col.lower() for col in item_features.columns]\n",
    "item_features.rename(columns={'product_id': 'item_id'}, inplace=True)\n",
    "\n",
    "item_features.head(2)"
   ]
  },
  {
   "cell_type": "code",
   "execution_count": 4,
   "metadata": {
    "id": "ZQna6TBQIHyk",
    "outputId": "7728607d-5b4d-4ce8-f30f-79072af648d2"
   },
   "outputs": [
    {
     "data": {
      "text/plain": [
       "array(['GROCERY', 'MISC. TRANS.', 'PASTRY', 'DRUG GM', 'MEAT-PCKGD',\n",
       "       'SEAFOOD-PCKGD', 'PRODUCE', 'NUTRITION', 'DELI', 'COSMETICS',\n",
       "       'MEAT', 'FLORAL', 'TRAVEL & LEISUR', 'SEAFOOD', 'MISC SALES TRAN',\n",
       "       'SALAD BAR', 'KIOSK-GAS', 'ELECT &PLUMBING', 'GRO BAKERY',\n",
       "       'GM MERCH EXP', 'FROZEN GROCERY', 'COUP/STR & MFG', 'SPIRITS',\n",
       "       'GARDEN CENTER', 'TOYS', 'CHARITABLE CONT', 'RESTAURANT', 'RX',\n",
       "       'PROD-WHS SALES', 'MEAT-WHSE', 'DAIRY DELI', 'CHEF SHOPPE', 'HBC',\n",
       "       'DELI/SNACK BAR', 'PORK', 'AUTOMOTIVE', 'VIDEO RENTAL', ' ',\n",
       "       'CNTRL/STORE SUP', 'HOUSEWARES', 'POSTAL CENTER', 'PHOTO', 'VIDEO',\n",
       "       'PHARMACY SUPPLY'], dtype=object)"
      ]
     },
     "execution_count": 4,
     "metadata": {},
     "output_type": "execute_result"
    }
   ],
   "source": [
    "item_features.department.unique()"
   ]
  },
  {
   "cell_type": "code",
   "execution_count": 5,
   "metadata": {
    "id": "vBJcGBpTIHyl",
    "outputId": "612dfe1f-286b-4d81-af92-721c6e317b6c"
   },
   "outputs": [
    {
     "data": {
      "text/html": [
       "<div>\n",
       "<style scoped>\n",
       "    .dataframe tbody tr th:only-of-type {\n",
       "        vertical-align: middle;\n",
       "    }\n",
       "\n",
       "    .dataframe tbody tr th {\n",
       "        vertical-align: top;\n",
       "    }\n",
       "\n",
       "    .dataframe thead th {\n",
       "        text-align: right;\n",
       "    }\n",
       "</style>\n",
       "<table border=\"1\" class=\"dataframe\">\n",
       "  <thead>\n",
       "    <tr style=\"text-align: right;\">\n",
       "      <th></th>\n",
       "      <th>user_id</th>\n",
       "      <th>actual</th>\n",
       "    </tr>\n",
       "  </thead>\n",
       "  <tbody>\n",
       "    <tr>\n",
       "      <th>0</th>\n",
       "      <td>1</td>\n",
       "      <td>[879517, 934369, 1115576, 1124029, 5572301, 65...</td>\n",
       "    </tr>\n",
       "    <tr>\n",
       "      <th>1</th>\n",
       "      <td>3</td>\n",
       "      <td>[823704, 834117, 840244, 913785, 917816, 93870...</td>\n",
       "    </tr>\n",
       "  </tbody>\n",
       "</table>\n",
       "</div>"
      ],
      "text/plain": [
       "   user_id                                             actual\n",
       "0        1  [879517, 934369, 1115576, 1124029, 5572301, 65...\n",
       "1        3  [823704, 834117, 840244, 913785, 917816, 93870..."
      ]
     },
     "execution_count": 5,
     "metadata": {},
     "output_type": "execute_result"
    }
   ],
   "source": [
    "result = data_test.groupby('user_id')['item_id'].unique().reset_index()\n",
    "result.columns=['user_id', 'actual']\n",
    "result.head(2)"
   ]
  },
  {
   "cell_type": "code",
   "execution_count": 6,
   "metadata": {
    "id": "9dmp1II9IHyl"
   },
   "outputs": [],
   "source": [
    "popularity = data_train.groupby('item_id')['quantity'].sum().reset_index()\n",
    "popularity.rename(columns={'quantity': 'n_sold'}, inplace=True)\n",
    "\n",
    "top_5000 = popularity.sort_values('n_sold', ascending=False).head(5000).item_id.tolist()"
   ]
  },
  {
   "cell_type": "code",
   "execution_count": 7,
   "metadata": {
    "id": "jvQ8_CJ9IHym",
    "outputId": "ebf07e9a-6f11-4aa9-d43d-98c0055ec42d"
   },
   "outputs": [
    {
     "data": {
      "text/html": [
       "<div>\n",
       "<style scoped>\n",
       "    .dataframe tbody tr th:only-of-type {\n",
       "        vertical-align: middle;\n",
       "    }\n",
       "\n",
       "    .dataframe tbody tr th {\n",
       "        vertical-align: top;\n",
       "    }\n",
       "\n",
       "    .dataframe thead th {\n",
       "        text-align: right;\n",
       "    }\n",
       "</style>\n",
       "<table border=\"1\" class=\"dataframe\">\n",
       "  <thead>\n",
       "    <tr style=\"text-align: right;\">\n",
       "      <th>item_id</th>\n",
       "      <th>202291</th>\n",
       "      <th>397896</th>\n",
       "      <th>420647</th>\n",
       "      <th>480014</th>\n",
       "      <th>545926</th>\n",
       "      <th>707683</th>\n",
       "      <th>731106</th>\n",
       "      <th>818980</th>\n",
       "      <th>819063</th>\n",
       "      <th>819227</th>\n",
       "      <th>...</th>\n",
       "      <th>15926885</th>\n",
       "      <th>15926886</th>\n",
       "      <th>15926887</th>\n",
       "      <th>15926927</th>\n",
       "      <th>15927033</th>\n",
       "      <th>15927403</th>\n",
       "      <th>15927661</th>\n",
       "      <th>15927850</th>\n",
       "      <th>16809471</th>\n",
       "      <th>17105257</th>\n",
       "    </tr>\n",
       "    <tr>\n",
       "      <th>user_id</th>\n",
       "      <th></th>\n",
       "      <th></th>\n",
       "      <th></th>\n",
       "      <th></th>\n",
       "      <th></th>\n",
       "      <th></th>\n",
       "      <th></th>\n",
       "      <th></th>\n",
       "      <th></th>\n",
       "      <th></th>\n",
       "      <th></th>\n",
       "      <th></th>\n",
       "      <th></th>\n",
       "      <th></th>\n",
       "      <th></th>\n",
       "      <th></th>\n",
       "      <th></th>\n",
       "      <th></th>\n",
       "      <th></th>\n",
       "      <th></th>\n",
       "      <th></th>\n",
       "    </tr>\n",
       "  </thead>\n",
       "  <tbody>\n",
       "    <tr>\n",
       "      <th>1</th>\n",
       "      <td>0.0</td>\n",
       "      <td>0.0</td>\n",
       "      <td>0.0</td>\n",
       "      <td>0.0</td>\n",
       "      <td>0.0</td>\n",
       "      <td>0.0</td>\n",
       "      <td>0.0</td>\n",
       "      <td>0.0</td>\n",
       "      <td>0.0</td>\n",
       "      <td>0.0</td>\n",
       "      <td>...</td>\n",
       "      <td>0.0</td>\n",
       "      <td>0.0</td>\n",
       "      <td>0.0</td>\n",
       "      <td>2.0</td>\n",
       "      <td>0.0</td>\n",
       "      <td>0.0</td>\n",
       "      <td>0.0</td>\n",
       "      <td>0.0</td>\n",
       "      <td>0.0</td>\n",
       "      <td>0.0</td>\n",
       "    </tr>\n",
       "    <tr>\n",
       "      <th>2</th>\n",
       "      <td>0.0</td>\n",
       "      <td>0.0</td>\n",
       "      <td>0.0</td>\n",
       "      <td>0.0</td>\n",
       "      <td>0.0</td>\n",
       "      <td>0.0</td>\n",
       "      <td>0.0</td>\n",
       "      <td>0.0</td>\n",
       "      <td>0.0</td>\n",
       "      <td>0.0</td>\n",
       "      <td>...</td>\n",
       "      <td>0.0</td>\n",
       "      <td>0.0</td>\n",
       "      <td>0.0</td>\n",
       "      <td>1.0</td>\n",
       "      <td>0.0</td>\n",
       "      <td>0.0</td>\n",
       "      <td>0.0</td>\n",
       "      <td>0.0</td>\n",
       "      <td>0.0</td>\n",
       "      <td>0.0</td>\n",
       "    </tr>\n",
       "    <tr>\n",
       "      <th>3</th>\n",
       "      <td>0.0</td>\n",
       "      <td>0.0</td>\n",
       "      <td>0.0</td>\n",
       "      <td>0.0</td>\n",
       "      <td>0.0</td>\n",
       "      <td>0.0</td>\n",
       "      <td>0.0</td>\n",
       "      <td>0.0</td>\n",
       "      <td>0.0</td>\n",
       "      <td>0.0</td>\n",
       "      <td>...</td>\n",
       "      <td>0.0</td>\n",
       "      <td>0.0</td>\n",
       "      <td>0.0</td>\n",
       "      <td>0.0</td>\n",
       "      <td>0.0</td>\n",
       "      <td>0.0</td>\n",
       "      <td>0.0</td>\n",
       "      <td>0.0</td>\n",
       "      <td>0.0</td>\n",
       "      <td>0.0</td>\n",
       "    </tr>\n",
       "  </tbody>\n",
       "</table>\n",
       "<p>3 rows × 5001 columns</p>\n",
       "</div>"
      ],
      "text/plain": [
       "item_id  202291    397896    420647    480014    545926    707683    731106    \\\n",
       "user_id                                                                         \n",
       "1             0.0       0.0       0.0       0.0       0.0       0.0       0.0   \n",
       "2             0.0       0.0       0.0       0.0       0.0       0.0       0.0   \n",
       "3             0.0       0.0       0.0       0.0       0.0       0.0       0.0   \n",
       "\n",
       "item_id  818980    819063    819227    ...  15926885  15926886  15926887  \\\n",
       "user_id                                ...                                 \n",
       "1             0.0       0.0       0.0  ...       0.0       0.0       0.0   \n",
       "2             0.0       0.0       0.0  ...       0.0       0.0       0.0   \n",
       "3             0.0       0.0       0.0  ...       0.0       0.0       0.0   \n",
       "\n",
       "item_id  15926927  15927033  15927403  15927661  15927850  16809471  17105257  \n",
       "user_id                                                                        \n",
       "1             2.0       0.0       0.0       0.0       0.0       0.0       0.0  \n",
       "2             1.0       0.0       0.0       0.0       0.0       0.0       0.0  \n",
       "3             0.0       0.0       0.0       0.0       0.0       0.0       0.0  \n",
       "\n",
       "[3 rows x 5001 columns]"
      ]
     },
     "execution_count": 7,
     "metadata": {},
     "output_type": "execute_result"
    }
   ],
   "source": [
    "# Заведем фиктивный item_id (если юзер покупал товары из топ-5000, то он \"купил\" такой товар)\n",
    "data_train.loc[~data_train['item_id'].isin(top_5000), 'item_id'] = 999999\n",
    "\n",
    "user_item_matrix = pd.pivot_table(data_train, \n",
    "                                  index='user_id', columns='item_id', \n",
    "                                  values='quantity', # Можно пробоват ьдругие варианты\n",
    "                                  aggfunc='count', \n",
    "                                  fill_value=0\n",
    "                                 )\n",
    "\n",
    "user_item_matrix = user_item_matrix.astype(float) # необходимый тип матрицы для implicit\n",
    "\n",
    "# переведем в формат saprse matrix\n",
    "sparse_user_item = csr_matrix(user_item_matrix).tocsr()\n",
    "\n",
    "user_item_matrix.head(3)"
   ]
  },
  {
   "cell_type": "code",
   "execution_count": 8,
   "metadata": {
    "id": "TiPuXLb7IHym"
   },
   "outputs": [],
   "source": [
    "userids = user_item_matrix.index.values\n",
    "itemids = user_item_matrix.columns.values\n",
    "\n",
    "matrix_userids = np.arange(len(userids))\n",
    "matrix_itemids = np.arange(len(itemids))\n",
    "\n",
    "id_to_itemid = dict(zip(matrix_itemids, itemids))\n",
    "id_to_userid = dict(zip(matrix_userids, userids))\n",
    "\n",
    "itemid_to_id = dict(zip(itemids, matrix_itemids))\n",
    "userid_to_id = dict(zip(userids, matrix_userids))"
   ]
  },
  {
   "cell_type": "code",
   "execution_count": 11,
   "metadata": {},
   "outputs": [
    {
     "data": {
      "text/plain": [
       "{1: 0,\n",
       " 2: 1,\n",
       " 3: 2,\n",
       " 4: 3,\n",
       " 5: 4,\n",
       " 6: 5,\n",
       " 7: 6,\n",
       " 8: 7,\n",
       " 9: 8,\n",
       " 10: 9,\n",
       " 11: 10,\n",
       " 12: 11,\n",
       " 13: 12,\n",
       " 14: 13,\n",
       " 15: 14,\n",
       " 16: 15,\n",
       " 17: 16,\n",
       " 18: 17,\n",
       " 19: 18,\n",
       " 20: 19,\n",
       " 21: 20,\n",
       " 22: 21,\n",
       " 23: 22,\n",
       " 24: 23,\n",
       " 25: 24,\n",
       " 26: 25,\n",
       " 27: 26,\n",
       " 28: 27,\n",
       " 29: 28,\n",
       " 30: 29,\n",
       " 31: 30,\n",
       " 32: 31,\n",
       " 33: 32,\n",
       " 34: 33,\n",
       " 35: 34,\n",
       " 36: 35,\n",
       " 37: 36,\n",
       " 38: 37,\n",
       " 39: 38,\n",
       " 40: 39,\n",
       " 41: 40,\n",
       " 42: 41,\n",
       " 43: 42,\n",
       " 44: 43,\n",
       " 45: 44,\n",
       " 46: 45,\n",
       " 47: 46,\n",
       " 48: 47,\n",
       " 49: 48,\n",
       " 50: 49,\n",
       " 51: 50,\n",
       " 52: 51,\n",
       " 53: 52,\n",
       " 54: 53,\n",
       " 55: 54,\n",
       " 56: 55,\n",
       " 57: 56,\n",
       " 58: 57,\n",
       " 59: 58,\n",
       " 60: 59,\n",
       " 61: 60,\n",
       " 62: 61,\n",
       " 63: 62,\n",
       " 64: 63,\n",
       " 65: 64,\n",
       " 66: 65,\n",
       " 67: 66,\n",
       " 68: 67,\n",
       " 69: 68,\n",
       " 70: 69,\n",
       " 71: 70,\n",
       " 72: 71,\n",
       " 73: 72,\n",
       " 74: 73,\n",
       " 75: 74,\n",
       " 76: 75,\n",
       " 77: 76,\n",
       " 78: 77,\n",
       " 79: 78,\n",
       " 80: 79,\n",
       " 81: 80,\n",
       " 82: 81,\n",
       " 83: 82,\n",
       " 84: 83,\n",
       " 85: 84,\n",
       " 86: 85,\n",
       " 87: 86,\n",
       " 88: 87,\n",
       " 89: 88,\n",
       " 90: 89,\n",
       " 91: 90,\n",
       " 92: 91,\n",
       " 93: 92,\n",
       " 94: 93,\n",
       " 95: 94,\n",
       " 96: 95,\n",
       " 97: 96,\n",
       " 98: 97,\n",
       " 99: 98,\n",
       " 100: 99,\n",
       " 101: 100,\n",
       " 102: 101,\n",
       " 103: 102,\n",
       " 104: 103,\n",
       " 105: 104,\n",
       " 106: 105,\n",
       " 107: 106,\n",
       " 108: 107,\n",
       " 109: 108,\n",
       " 110: 109,\n",
       " 111: 110,\n",
       " 112: 111,\n",
       " 113: 112,\n",
       " 114: 113,\n",
       " 115: 114,\n",
       " 116: 115,\n",
       " 117: 116,\n",
       " 118: 117,\n",
       " 119: 118,\n",
       " 120: 119,\n",
       " 121: 120,\n",
       " 122: 121,\n",
       " 123: 122,\n",
       " 124: 123,\n",
       " 125: 124,\n",
       " 126: 125,\n",
       " 127: 126,\n",
       " 128: 127,\n",
       " 129: 128,\n",
       " 130: 129,\n",
       " 131: 130,\n",
       " 132: 131,\n",
       " 133: 132,\n",
       " 134: 133,\n",
       " 135: 134,\n",
       " 136: 135,\n",
       " 137: 136,\n",
       " 138: 137,\n",
       " 139: 138,\n",
       " 140: 139,\n",
       " 141: 140,\n",
       " 142: 141,\n",
       " 143: 142,\n",
       " 144: 143,\n",
       " 145: 144,\n",
       " 146: 145,\n",
       " 147: 146,\n",
       " 148: 147,\n",
       " 149: 148,\n",
       " 150: 149,\n",
       " 151: 150,\n",
       " 152: 151,\n",
       " 153: 152,\n",
       " 154: 153,\n",
       " 155: 154,\n",
       " 156: 155,\n",
       " 157: 156,\n",
       " 158: 157,\n",
       " 159: 158,\n",
       " 160: 159,\n",
       " 161: 160,\n",
       " 162: 161,\n",
       " 163: 162,\n",
       " 164: 163,\n",
       " 165: 164,\n",
       " 166: 165,\n",
       " 167: 166,\n",
       " 168: 167,\n",
       " 169: 168,\n",
       " 170: 169,\n",
       " 171: 170,\n",
       " 172: 171,\n",
       " 173: 172,\n",
       " 174: 173,\n",
       " 175: 174,\n",
       " 176: 175,\n",
       " 177: 176,\n",
       " 178: 177,\n",
       " 179: 178,\n",
       " 180: 179,\n",
       " 181: 180,\n",
       " 182: 181,\n",
       " 183: 182,\n",
       " 184: 183,\n",
       " 185: 184,\n",
       " 186: 185,\n",
       " 187: 186,\n",
       " 188: 187,\n",
       " 189: 188,\n",
       " 190: 189,\n",
       " 191: 190,\n",
       " 192: 191,\n",
       " 193: 192,\n",
       " 194: 193,\n",
       " 195: 194,\n",
       " 196: 195,\n",
       " 197: 196,\n",
       " 198: 197,\n",
       " 199: 198,\n",
       " 200: 199,\n",
       " 201: 200,\n",
       " 202: 201,\n",
       " 203: 202,\n",
       " 204: 203,\n",
       " 205: 204,\n",
       " 206: 205,\n",
       " 207: 206,\n",
       " 208: 207,\n",
       " 209: 208,\n",
       " 210: 209,\n",
       " 211: 210,\n",
       " 212: 211,\n",
       " 213: 212,\n",
       " 214: 213,\n",
       " 215: 214,\n",
       " 216: 215,\n",
       " 217: 216,\n",
       " 218: 217,\n",
       " 219: 218,\n",
       " 220: 219,\n",
       " 221: 220,\n",
       " 222: 221,\n",
       " 223: 222,\n",
       " 224: 223,\n",
       " 225: 224,\n",
       " 226: 225,\n",
       " 227: 226,\n",
       " 228: 227,\n",
       " 229: 228,\n",
       " 230: 229,\n",
       " 231: 230,\n",
       " 232: 231,\n",
       " 233: 232,\n",
       " 234: 233,\n",
       " 235: 234,\n",
       " 236: 235,\n",
       " 237: 236,\n",
       " 238: 237,\n",
       " 239: 238,\n",
       " 240: 239,\n",
       " 241: 240,\n",
       " 242: 241,\n",
       " 243: 242,\n",
       " 244: 243,\n",
       " 245: 244,\n",
       " 246: 245,\n",
       " 247: 246,\n",
       " 248: 247,\n",
       " 249: 248,\n",
       " 250: 249,\n",
       " 251: 250,\n",
       " 252: 251,\n",
       " 253: 252,\n",
       " 254: 253,\n",
       " 255: 254,\n",
       " 256: 255,\n",
       " 257: 256,\n",
       " 258: 257,\n",
       " 259: 258,\n",
       " 260: 259,\n",
       " 261: 260,\n",
       " 262: 261,\n",
       " 263: 262,\n",
       " 264: 263,\n",
       " 265: 264,\n",
       " 266: 265,\n",
       " 267: 266,\n",
       " 268: 267,\n",
       " 269: 268,\n",
       " 270: 269,\n",
       " 271: 270,\n",
       " 272: 271,\n",
       " 273: 272,\n",
       " 274: 273,\n",
       " 275: 274,\n",
       " 276: 275,\n",
       " 277: 276,\n",
       " 278: 277,\n",
       " 279: 278,\n",
       " 280: 279,\n",
       " 281: 280,\n",
       " 282: 281,\n",
       " 283: 282,\n",
       " 284: 283,\n",
       " 285: 284,\n",
       " 286: 285,\n",
       " 287: 286,\n",
       " 288: 287,\n",
       " 289: 288,\n",
       " 290: 289,\n",
       " 291: 290,\n",
       " 292: 291,\n",
       " 293: 292,\n",
       " 294: 293,\n",
       " 295: 294,\n",
       " 296: 295,\n",
       " 297: 296,\n",
       " 298: 297,\n",
       " 299: 298,\n",
       " 300: 299,\n",
       " 301: 300,\n",
       " 302: 301,\n",
       " 303: 302,\n",
       " 304: 303,\n",
       " 305: 304,\n",
       " 306: 305,\n",
       " 307: 306,\n",
       " 308: 307,\n",
       " 309: 308,\n",
       " 310: 309,\n",
       " 311: 310,\n",
       " 312: 311,\n",
       " 313: 312,\n",
       " 314: 313,\n",
       " 315: 314,\n",
       " 316: 315,\n",
       " 317: 316,\n",
       " 318: 317,\n",
       " 319: 318,\n",
       " 320: 319,\n",
       " 321: 320,\n",
       " 322: 321,\n",
       " 323: 322,\n",
       " 324: 323,\n",
       " 325: 324,\n",
       " 326: 325,\n",
       " 327: 326,\n",
       " 328: 327,\n",
       " 329: 328,\n",
       " 330: 329,\n",
       " 331: 330,\n",
       " 332: 331,\n",
       " 333: 332,\n",
       " 334: 333,\n",
       " 335: 334,\n",
       " 336: 335,\n",
       " 337: 336,\n",
       " 338: 337,\n",
       " 339: 338,\n",
       " 340: 339,\n",
       " 341: 340,\n",
       " 342: 341,\n",
       " 343: 342,\n",
       " 344: 343,\n",
       " 345: 344,\n",
       " 346: 345,\n",
       " 347: 346,\n",
       " 348: 347,\n",
       " 349: 348,\n",
       " 350: 349,\n",
       " 351: 350,\n",
       " 352: 351,\n",
       " 353: 352,\n",
       " 354: 353,\n",
       " 355: 354,\n",
       " 356: 355,\n",
       " 357: 356,\n",
       " 358: 357,\n",
       " 359: 358,\n",
       " 360: 359,\n",
       " 361: 360,\n",
       " 362: 361,\n",
       " 363: 362,\n",
       " 364: 363,\n",
       " 365: 364,\n",
       " 366: 365,\n",
       " 367: 366,\n",
       " 368: 367,\n",
       " 369: 368,\n",
       " 370: 369,\n",
       " 371: 370,\n",
       " 372: 371,\n",
       " 373: 372,\n",
       " 374: 373,\n",
       " 375: 374,\n",
       " 376: 375,\n",
       " 377: 376,\n",
       " 378: 377,\n",
       " 379: 378,\n",
       " 380: 379,\n",
       " 381: 380,\n",
       " 382: 381,\n",
       " 383: 382,\n",
       " 384: 383,\n",
       " 385: 384,\n",
       " 386: 385,\n",
       " 387: 386,\n",
       " 388: 387,\n",
       " 389: 388,\n",
       " 390: 389,\n",
       " 391: 390,\n",
       " 392: 391,\n",
       " 393: 392,\n",
       " 394: 393,\n",
       " 395: 394,\n",
       " 396: 395,\n",
       " 397: 396,\n",
       " 398: 397,\n",
       " 399: 398,\n",
       " 400: 399,\n",
       " 401: 400,\n",
       " 402: 401,\n",
       " 403: 402,\n",
       " 404: 403,\n",
       " 405: 404,\n",
       " 406: 405,\n",
       " 407: 406,\n",
       " 408: 407,\n",
       " 409: 408,\n",
       " 410: 409,\n",
       " 411: 410,\n",
       " 412: 411,\n",
       " 413: 412,\n",
       " 414: 413,\n",
       " 415: 414,\n",
       " 416: 415,\n",
       " 417: 416,\n",
       " 418: 417,\n",
       " 419: 418,\n",
       " 420: 419,\n",
       " 421: 420,\n",
       " 422: 421,\n",
       " 423: 422,\n",
       " 424: 423,\n",
       " 425: 424,\n",
       " 426: 425,\n",
       " 427: 426,\n",
       " 428: 427,\n",
       " 429: 428,\n",
       " 430: 429,\n",
       " 431: 430,\n",
       " 432: 431,\n",
       " 433: 432,\n",
       " 434: 433,\n",
       " 435: 434,\n",
       " 436: 435,\n",
       " 437: 436,\n",
       " 438: 437,\n",
       " 439: 438,\n",
       " 440: 439,\n",
       " 441: 440,\n",
       " 442: 441,\n",
       " 443: 442,\n",
       " 444: 443,\n",
       " 445: 444,\n",
       " 446: 445,\n",
       " 447: 446,\n",
       " 448: 447,\n",
       " 449: 448,\n",
       " 450: 449,\n",
       " 451: 450,\n",
       " 452: 451,\n",
       " 453: 452,\n",
       " 454: 453,\n",
       " 455: 454,\n",
       " 456: 455,\n",
       " 457: 456,\n",
       " 458: 457,\n",
       " 459: 458,\n",
       " 460: 459,\n",
       " 461: 460,\n",
       " 462: 461,\n",
       " 463: 462,\n",
       " 464: 463,\n",
       " 465: 464,\n",
       " 466: 465,\n",
       " 467: 466,\n",
       " 468: 467,\n",
       " 469: 468,\n",
       " 470: 469,\n",
       " 471: 470,\n",
       " 472: 471,\n",
       " 473: 472,\n",
       " 474: 473,\n",
       " 475: 474,\n",
       " 476: 475,\n",
       " 477: 476,\n",
       " 478: 477,\n",
       " 479: 478,\n",
       " 480: 479,\n",
       " 481: 480,\n",
       " 482: 481,\n",
       " 483: 482,\n",
       " 484: 483,\n",
       " 485: 484,\n",
       " 486: 485,\n",
       " 487: 486,\n",
       " 488: 487,\n",
       " 489: 488,\n",
       " 490: 489,\n",
       " 491: 490,\n",
       " 492: 491,\n",
       " 493: 492,\n",
       " 494: 493,\n",
       " 495: 494,\n",
       " 496: 495,\n",
       " 497: 496,\n",
       " 498: 497,\n",
       " 499: 498,\n",
       " 500: 499,\n",
       " 501: 500,\n",
       " 502: 501,\n",
       " 503: 502,\n",
       " 504: 503,\n",
       " 505: 504,\n",
       " 506: 505,\n",
       " 507: 506,\n",
       " 508: 507,\n",
       " 509: 508,\n",
       " 510: 509,\n",
       " 511: 510,\n",
       " 512: 511,\n",
       " 513: 512,\n",
       " 514: 513,\n",
       " 515: 514,\n",
       " 516: 515,\n",
       " 517: 516,\n",
       " 518: 517,\n",
       " 519: 518,\n",
       " 520: 519,\n",
       " 521: 520,\n",
       " 522: 521,\n",
       " 523: 522,\n",
       " 524: 523,\n",
       " 525: 524,\n",
       " 526: 525,\n",
       " 527: 526,\n",
       " 528: 527,\n",
       " 529: 528,\n",
       " 530: 529,\n",
       " 531: 530,\n",
       " 532: 531,\n",
       " 533: 532,\n",
       " 534: 533,\n",
       " 535: 534,\n",
       " 536: 535,\n",
       " 537: 536,\n",
       " 538: 537,\n",
       " 539: 538,\n",
       " 540: 539,\n",
       " 541: 540,\n",
       " 542: 541,\n",
       " 543: 542,\n",
       " 544: 543,\n",
       " 545: 544,\n",
       " 546: 545,\n",
       " 547: 546,\n",
       " 548: 547,\n",
       " 549: 548,\n",
       " 550: 549,\n",
       " 551: 550,\n",
       " 552: 551,\n",
       " 553: 552,\n",
       " 554: 553,\n",
       " 555: 554,\n",
       " 556: 555,\n",
       " 557: 556,\n",
       " 558: 557,\n",
       " 559: 558,\n",
       " 560: 559,\n",
       " 561: 560,\n",
       " 562: 561,\n",
       " 563: 562,\n",
       " 564: 563,\n",
       " 565: 564,\n",
       " 566: 565,\n",
       " 567: 566,\n",
       " 568: 567,\n",
       " 569: 568,\n",
       " 570: 569,\n",
       " 571: 570,\n",
       " 572: 571,\n",
       " 573: 572,\n",
       " 574: 573,\n",
       " 575: 574,\n",
       " 576: 575,\n",
       " 577: 576,\n",
       " 578: 577,\n",
       " 579: 578,\n",
       " 580: 579,\n",
       " 581: 580,\n",
       " 582: 581,\n",
       " 583: 582,\n",
       " 584: 583,\n",
       " 585: 584,\n",
       " 586: 585,\n",
       " 587: 586,\n",
       " 588: 587,\n",
       " 589: 588,\n",
       " 590: 589,\n",
       " 591: 590,\n",
       " 592: 591,\n",
       " 593: 592,\n",
       " 594: 593,\n",
       " 595: 594,\n",
       " 596: 595,\n",
       " 597: 596,\n",
       " 598: 597,\n",
       " 599: 598,\n",
       " 600: 599,\n",
       " 601: 600,\n",
       " 602: 601,\n",
       " 603: 602,\n",
       " 604: 603,\n",
       " 605: 604,\n",
       " 606: 605,\n",
       " 607: 606,\n",
       " 608: 607,\n",
       " 609: 608,\n",
       " 610: 609,\n",
       " 611: 610,\n",
       " 612: 611,\n",
       " 613: 612,\n",
       " 614: 613,\n",
       " 615: 614,\n",
       " 616: 615,\n",
       " 617: 616,\n",
       " 618: 617,\n",
       " 619: 618,\n",
       " 620: 619,\n",
       " 621: 620,\n",
       " 622: 621,\n",
       " 623: 622,\n",
       " 624: 623,\n",
       " 625: 624,\n",
       " 626: 625,\n",
       " 627: 626,\n",
       " 628: 627,\n",
       " 629: 628,\n",
       " 630: 629,\n",
       " 631: 630,\n",
       " 632: 631,\n",
       " 633: 632,\n",
       " 634: 633,\n",
       " 635: 634,\n",
       " 636: 635,\n",
       " 637: 636,\n",
       " 638: 637,\n",
       " 639: 638,\n",
       " 640: 639,\n",
       " 641: 640,\n",
       " 642: 641,\n",
       " 643: 642,\n",
       " 644: 643,\n",
       " 645: 644,\n",
       " 646: 645,\n",
       " 647: 646,\n",
       " 648: 647,\n",
       " 649: 648,\n",
       " 650: 649,\n",
       " 651: 650,\n",
       " 652: 651,\n",
       " 653: 652,\n",
       " 654: 653,\n",
       " 655: 654,\n",
       " 656: 655,\n",
       " 657: 656,\n",
       " 658: 657,\n",
       " 659: 658,\n",
       " 660: 659,\n",
       " 661: 660,\n",
       " 662: 661,\n",
       " 663: 662,\n",
       " 664: 663,\n",
       " 665: 664,\n",
       " 666: 665,\n",
       " 667: 666,\n",
       " 668: 667,\n",
       " 669: 668,\n",
       " 670: 669,\n",
       " 671: 670,\n",
       " 672: 671,\n",
       " 673: 672,\n",
       " 674: 673,\n",
       " 675: 674,\n",
       " 676: 675,\n",
       " 677: 676,\n",
       " 678: 677,\n",
       " 679: 678,\n",
       " 680: 679,\n",
       " 681: 680,\n",
       " 682: 681,\n",
       " 683: 682,\n",
       " 684: 683,\n",
       " 685: 684,\n",
       " 686: 685,\n",
       " 687: 686,\n",
       " 688: 687,\n",
       " 689: 688,\n",
       " 690: 689,\n",
       " 691: 690,\n",
       " 692: 691,\n",
       " 693: 692,\n",
       " 694: 693,\n",
       " 695: 694,\n",
       " 696: 695,\n",
       " 697: 696,\n",
       " 698: 697,\n",
       " 699: 698,\n",
       " 700: 699,\n",
       " 701: 700,\n",
       " 702: 701,\n",
       " 703: 702,\n",
       " 704: 703,\n",
       " 705: 704,\n",
       " 706: 705,\n",
       " 707: 706,\n",
       " 708: 707,\n",
       " 709: 708,\n",
       " 710: 709,\n",
       " 711: 710,\n",
       " 712: 711,\n",
       " 713: 712,\n",
       " 714: 713,\n",
       " 715: 714,\n",
       " 716: 715,\n",
       " 717: 716,\n",
       " 718: 717,\n",
       " 719: 718,\n",
       " 720: 719,\n",
       " 721: 720,\n",
       " 722: 721,\n",
       " 723: 722,\n",
       " 724: 723,\n",
       " 725: 724,\n",
       " 726: 725,\n",
       " 727: 726,\n",
       " 728: 727,\n",
       " 729: 728,\n",
       " 730: 729,\n",
       " 731: 730,\n",
       " 732: 731,\n",
       " 733: 732,\n",
       " 734: 733,\n",
       " 735: 734,\n",
       " 736: 735,\n",
       " 737: 736,\n",
       " 738: 737,\n",
       " 739: 738,\n",
       " 740: 739,\n",
       " 741: 740,\n",
       " 742: 741,\n",
       " 743: 742,\n",
       " 744: 743,\n",
       " 745: 744,\n",
       " 746: 745,\n",
       " 747: 746,\n",
       " 748: 747,\n",
       " 749: 748,\n",
       " 750: 749,\n",
       " 751: 750,\n",
       " 752: 751,\n",
       " 753: 752,\n",
       " 754: 753,\n",
       " 755: 754,\n",
       " 756: 755,\n",
       " 757: 756,\n",
       " 758: 757,\n",
       " 759: 758,\n",
       " 760: 759,\n",
       " 761: 760,\n",
       " 762: 761,\n",
       " 763: 762,\n",
       " 764: 763,\n",
       " 765: 764,\n",
       " 766: 765,\n",
       " 767: 766,\n",
       " 768: 767,\n",
       " 769: 768,\n",
       " 770: 769,\n",
       " 771: 770,\n",
       " 772: 771,\n",
       " 773: 772,\n",
       " 774: 773,\n",
       " 775: 774,\n",
       " 776: 775,\n",
       " 777: 776,\n",
       " 778: 777,\n",
       " 779: 778,\n",
       " 780: 779,\n",
       " 781: 780,\n",
       " 782: 781,\n",
       " 783: 782,\n",
       " 784: 783,\n",
       " 785: 784,\n",
       " 786: 785,\n",
       " 787: 786,\n",
       " 788: 787,\n",
       " 789: 788,\n",
       " 790: 789,\n",
       " 791: 790,\n",
       " 792: 791,\n",
       " 793: 792,\n",
       " 794: 793,\n",
       " 795: 794,\n",
       " 796: 795,\n",
       " 797: 796,\n",
       " 798: 797,\n",
       " 799: 798,\n",
       " 800: 799,\n",
       " 801: 800,\n",
       " 802: 801,\n",
       " 803: 802,\n",
       " 804: 803,\n",
       " 805: 804,\n",
       " 806: 805,\n",
       " 807: 806,\n",
       " 808: 807,\n",
       " 809: 808,\n",
       " 810: 809,\n",
       " 811: 810,\n",
       " 812: 811,\n",
       " 813: 812,\n",
       " 814: 813,\n",
       " 815: 814,\n",
       " 816: 815,\n",
       " 817: 816,\n",
       " 818: 817,\n",
       " 819: 818,\n",
       " 820: 819,\n",
       " 821: 820,\n",
       " 822: 821,\n",
       " 823: 822,\n",
       " 824: 823,\n",
       " 825: 824,\n",
       " 826: 825,\n",
       " 827: 826,\n",
       " 828: 827,\n",
       " 829: 828,\n",
       " 830: 829,\n",
       " 831: 830,\n",
       " 832: 831,\n",
       " 833: 832,\n",
       " 834: 833,\n",
       " 835: 834,\n",
       " 836: 835,\n",
       " 837: 836,\n",
       " 838: 837,\n",
       " 839: 838,\n",
       " 840: 839,\n",
       " 841: 840,\n",
       " 842: 841,\n",
       " 843: 842,\n",
       " 844: 843,\n",
       " 845: 844,\n",
       " 846: 845,\n",
       " 847: 846,\n",
       " 848: 847,\n",
       " 849: 848,\n",
       " 850: 849,\n",
       " 851: 850,\n",
       " 852: 851,\n",
       " 853: 852,\n",
       " 854: 853,\n",
       " 855: 854,\n",
       " 856: 855,\n",
       " 857: 856,\n",
       " 858: 857,\n",
       " 859: 858,\n",
       " 860: 859,\n",
       " 861: 860,\n",
       " 862: 861,\n",
       " 863: 862,\n",
       " 864: 863,\n",
       " 865: 864,\n",
       " 866: 865,\n",
       " 867: 866,\n",
       " 868: 867,\n",
       " 869: 868,\n",
       " 870: 869,\n",
       " 871: 870,\n",
       " 872: 871,\n",
       " 873: 872,\n",
       " 874: 873,\n",
       " 875: 874,\n",
       " 876: 875,\n",
       " 877: 876,\n",
       " 878: 877,\n",
       " 879: 878,\n",
       " 880: 879,\n",
       " 881: 880,\n",
       " 882: 881,\n",
       " 883: 882,\n",
       " 884: 883,\n",
       " 885: 884,\n",
       " 886: 885,\n",
       " 887: 886,\n",
       " 888: 887,\n",
       " 889: 888,\n",
       " 890: 889,\n",
       " 891: 890,\n",
       " 892: 891,\n",
       " 893: 892,\n",
       " 894: 893,\n",
       " 895: 894,\n",
       " 896: 895,\n",
       " 897: 896,\n",
       " 898: 897,\n",
       " 899: 898,\n",
       " 900: 899,\n",
       " 901: 900,\n",
       " 902: 901,\n",
       " 903: 902,\n",
       " 904: 903,\n",
       " 905: 904,\n",
       " 906: 905,\n",
       " 907: 906,\n",
       " 908: 907,\n",
       " 909: 908,\n",
       " 910: 909,\n",
       " 911: 910,\n",
       " 912: 911,\n",
       " 913: 912,\n",
       " 914: 913,\n",
       " 915: 914,\n",
       " 916: 915,\n",
       " 917: 916,\n",
       " 918: 917,\n",
       " 919: 918,\n",
       " 920: 919,\n",
       " 921: 920,\n",
       " 922: 921,\n",
       " 923: 922,\n",
       " 924: 923,\n",
       " 925: 924,\n",
       " 926: 925,\n",
       " 927: 926,\n",
       " 928: 927,\n",
       " 929: 928,\n",
       " 930: 929,\n",
       " 931: 930,\n",
       " 932: 931,\n",
       " 933: 932,\n",
       " 934: 933,\n",
       " 935: 934,\n",
       " 936: 935,\n",
       " 937: 936,\n",
       " 938: 937,\n",
       " 939: 938,\n",
       " 940: 939,\n",
       " 941: 940,\n",
       " 942: 941,\n",
       " 943: 942,\n",
       " 944: 943,\n",
       " 945: 944,\n",
       " 946: 945,\n",
       " 947: 946,\n",
       " 948: 947,\n",
       " 949: 948,\n",
       " 950: 949,\n",
       " 951: 950,\n",
       " 952: 951,\n",
       " 953: 952,\n",
       " 954: 953,\n",
       " 955: 954,\n",
       " 956: 955,\n",
       " 957: 956,\n",
       " 958: 957,\n",
       " 959: 958,\n",
       " 960: 959,\n",
       " 961: 960,\n",
       " 962: 961,\n",
       " 963: 962,\n",
       " 964: 963,\n",
       " 965: 964,\n",
       " 966: 965,\n",
       " 967: 966,\n",
       " 968: 967,\n",
       " 969: 968,\n",
       " 970: 969,\n",
       " 971: 970,\n",
       " 972: 971,\n",
       " 973: 972,\n",
       " 974: 973,\n",
       " 975: 974,\n",
       " 976: 975,\n",
       " 977: 976,\n",
       " 978: 977,\n",
       " 979: 978,\n",
       " 980: 979,\n",
       " 981: 980,\n",
       " 982: 981,\n",
       " 983: 982,\n",
       " 984: 983,\n",
       " 985: 984,\n",
       " 986: 985,\n",
       " 987: 986,\n",
       " 988: 987,\n",
       " 989: 988,\n",
       " 990: 989,\n",
       " 991: 990,\n",
       " 992: 991,\n",
       " 993: 992,\n",
       " 994: 993,\n",
       " 995: 994,\n",
       " 996: 995,\n",
       " 997: 996,\n",
       " 998: 997,\n",
       " 999: 998,\n",
       " 1000: 999,\n",
       " ...}"
      ]
     },
     "execution_count": 11,
     "metadata": {},
     "output_type": "execute_result"
    }
   ],
   "source": [
    "userid_to_id"
   ]
  },
  {
   "cell_type": "code",
   "execution_count": 11,
   "metadata": {
    "colab": {
     "referenced_widgets": [
      "f86969ff8f854a2cb5128440a2a2734e"
     ]
    },
    "id": "3DlT5ppEIHyn",
    "outputId": "c5207262-0dfc-4e42-91bc-e9754aad1906"
   },
   "outputs": [
    {
     "name": "stderr",
     "output_type": "stream",
     "text": [
      "WARNING:root:Intel MKL BLAS detected. Its highly recommend to set the environment variable 'export MKL_NUM_THREADS=1' to disable its internal multithreading\n"
     ]
    },
    {
     "data": {
      "application/vnd.jupyter.widget-view+json": {
       "model_id": "b5f3ec5bd33343699e0ea168b96dda18",
       "version_major": 2,
       "version_minor": 0
      },
      "text/plain": [
       "  0%|          | 0/15 [00:00<?, ?it/s]"
      ]
     },
     "metadata": {},
     "output_type": "display_data"
    },
    {
     "name": "stdout",
     "output_type": "stream",
     "text": [
      "CPU times: user 5.87 s, sys: 16.6 ms, total: 5.89 s\n",
      "Wall time: 1.64 s\n"
     ]
    }
   ],
   "source": [
    "%%time\n",
    "\n",
    "model = AlternatingLeastSquares(factors=100, \n",
    "                                regularization=0.001,\n",
    "                                iterations=15, \n",
    "                                calculate_training_loss=True, \n",
    "                                num_threads=4)\n",
    "\n",
    "model.fit(csr_matrix(user_item_matrix).T.tocsr(),  # На вход item-user matrix\n",
    "          show_progress=True)\n",
    "\n",
    "recs = model.recommend(userid=userid_to_id[2],  # userid - id от 0 до N\n",
    "                        user_items=csr_matrix(user_item_matrix).tocsr(),   # на вход user-item matrix\n",
    "                        N=5, # кол-во рекомендаций \n",
    "                        filter_already_liked_items=False, \n",
    "                        filter_items=None, \n",
    "                        recalculate_user=True)"
   ]
  },
  {
   "cell_type": "code",
   "execution_count": 12,
   "metadata": {
    "id": "NJR0pKy4IHyn",
    "outputId": "f8ea5a18-2e98-43fe-9ec4-5a6f530bf258"
   },
   "outputs": [
    {
     "data": {
      "text/plain": [
       "[1133018, 1106523, 999999, 1082185, 5569230]"
      ]
     },
     "execution_count": 12,
     "metadata": {},
     "output_type": "execute_result"
    }
   ],
   "source": [
    "[id_to_itemid[rec[0]] for rec in recs]"
   ]
  },
  {
   "cell_type": "code",
   "execution_count": 13,
   "metadata": {
    "id": "m2MhJPAcIHyo"
   },
   "outputs": [],
   "source": [
    "def get_recommendations(user, model, N=5):\n",
    "    res = [id_to_itemid[rec[0]] for rec in \n",
    "                    model.recommend(userid=userid_to_id[user], \n",
    "                                    user_items=sparse_user_item,   # на вход user-item matrix\n",
    "                                    N=N, \n",
    "                                    filter_already_liked_items=False, \n",
    "                                    filter_items=None, \n",
    "                                    recalculate_user=True)]\n",
    "    return res"
   ]
  },
  {
   "cell_type": "code",
   "execution_count": 14,
   "metadata": {
    "id": "-zbMDYN4IHyo",
    "outputId": "a042ce17-abe1-4b75-aedb-53a3f5c8d839"
   },
   "outputs": [
    {
     "name": "stdout",
     "output_type": "stream",
     "text": [
      "CPU times: user 56.5 s, sys: 559 ms, total: 57.1 s\n",
      "Wall time: 14.3 s\n"
     ]
    },
    {
     "data": {
      "text/plain": [
       "0.1488699146157692"
      ]
     },
     "execution_count": 14,
     "metadata": {},
     "output_type": "execute_result"
    }
   ],
   "source": [
    "%%time\n",
    "    \n",
    "result['als'] = result['user_id'].apply(lambda x: get_recommendations(x, model=model, N=5))\n",
    "result.apply(lambda row: precision_at_k(row['als'], row['actual']), axis=1).mean()"
   ]
  },
  {
   "cell_type": "code",
   "execution_count": 15,
   "metadata": {
    "id": "9TqsTlZEIHyp",
    "outputId": "e040c9f0-75ff-4b9d-ab7b-329e30dc5e09"
   },
   "outputs": [
    {
     "data": {
      "text/html": [
       "<div>\n",
       "<style scoped>\n",
       "    .dataframe tbody tr th:only-of-type {\n",
       "        vertical-align: middle;\n",
       "    }\n",
       "\n",
       "    .dataframe tbody tr th {\n",
       "        vertical-align: top;\n",
       "    }\n",
       "\n",
       "    .dataframe thead th {\n",
       "        text-align: right;\n",
       "    }\n",
       "</style>\n",
       "<table border=\"1\" class=\"dataframe\">\n",
       "  <thead>\n",
       "    <tr style=\"text-align: right;\">\n",
       "      <th></th>\n",
       "      <th>user_id</th>\n",
       "      <th>actual</th>\n",
       "      <th>als</th>\n",
       "    </tr>\n",
       "  </thead>\n",
       "  <tbody>\n",
       "    <tr>\n",
       "      <th>0</th>\n",
       "      <td>1</td>\n",
       "      <td>[879517, 934369, 1115576, 1124029, 5572301, 65...</td>\n",
       "      <td>[832678, 995242, 979707, 1005186, 1033142]</td>\n",
       "    </tr>\n",
       "    <tr>\n",
       "      <th>1</th>\n",
       "      <td>3</td>\n",
       "      <td>[823704, 834117, 840244, 913785, 917816, 93870...</td>\n",
       "      <td>[1106523, 5568378, 938700, 1133018, 908531]</td>\n",
       "    </tr>\n",
       "  </tbody>\n",
       "</table>\n",
       "</div>"
      ],
      "text/plain": [
       "   user_id                                             actual  \\\n",
       "0        1  [879517, 934369, 1115576, 1124029, 5572301, 65...   \n",
       "1        3  [823704, 834117, 840244, 913785, 917816, 93870...   \n",
       "\n",
       "                                           als  \n",
       "0   [832678, 995242, 979707, 1005186, 1033142]  \n",
       "1  [1106523, 5568378, 938700, 1133018, 908531]  "
      ]
     },
     "execution_count": 15,
     "metadata": {},
     "output_type": "execute_result"
    }
   ],
   "source": [
    "result.head(2)"
   ]
  },
  {
   "cell_type": "markdown",
   "metadata": {
    "id": "R1804WQGIHyp"
   },
   "source": [
    "### Embeddings"
   ]
  },
  {
   "cell_type": "code",
   "execution_count": 16,
   "metadata": {
    "id": "_ULLM3KlIHyp",
    "outputId": "bb1f650b-2d1c-4618-9a20-698cc98e6181"
   },
   "outputs": [
    {
     "data": {
      "text/plain": [
       "(5001, 100)"
      ]
     },
     "execution_count": 16,
     "metadata": {},
     "output_type": "execute_result"
    }
   ],
   "source": [
    "model.item_factors.shape"
   ]
  },
  {
   "cell_type": "code",
   "execution_count": 17,
   "metadata": {
    "id": "s0uphbU-IHyq",
    "outputId": "5a316e3e-554c-4a06-acab-8e4b7db454ef"
   },
   "outputs": [
    {
     "data": {
      "text/plain": [
       "(2500, 100)"
      ]
     },
     "execution_count": 17,
     "metadata": {},
     "output_type": "execute_result"
    }
   ],
   "source": [
    "model.user_factors.shape"
   ]
  },
  {
   "cell_type": "markdown",
   "metadata": {
    "id": "cf_zr75GIHyq"
   },
   "source": [
    "Можно очень быстро посчитать предсказания, перемножив эти 2 матрицы"
   ]
  },
  {
   "cell_type": "code",
   "execution_count": 18,
   "metadata": {
    "id": "XzuTn_FEIHyq",
    "outputId": "6910419f-dc8a-445e-a90f-2b9ccc2fcd65"
   },
   "outputs": [
    {
     "data": {
      "text/plain": [
       "(2500, 5001)"
      ]
     },
     "execution_count": 18,
     "metadata": {},
     "output_type": "execute_result"
    }
   ],
   "source": [
    "fast_recs = model.user_factors @ model.item_factors.T \n",
    "fast_recs.shape"
   ]
  },
  {
   "cell_type": "code",
   "execution_count": 19,
   "metadata": {
    "id": "V6d15toQIHyr"
   },
   "outputs": [],
   "source": [
    "import numpy as np\n",
    "import pandas as pd\n",
    "from matplotlib.pyplot import cm\n",
    "import pickle\n",
    "\n",
    "from scipy.spatial.distance import cdist\n",
    "\n",
    "from sklearn.decomposition import PCA\n",
    "from sklearn.manifold import TSNE\n",
    "\n",
    "import seaborn as sns\n",
    "\n",
    "\n",
    "def reduce_dims(df, dims=2, method='pca'):\n",
    "    \n",
    "    assert method in ['pca', 'tsne'], 'Неверно указан метод'\n",
    "    \n",
    "    if method=='pca':\n",
    "        pca = PCA(n_components=dims)\n",
    "        components = pca.fit_transform(df)\n",
    "    elif method == 'tsne':\n",
    "        tsne = TSNE(n_components=dims, learning_rate=250, random_state=42)\n",
    "        components = tsne.fit_transform(df)\n",
    "    else:\n",
    "        print('Error')\n",
    "        \n",
    "    colnames = ['component_' + str(i) for i in range(1, dims+1)]\n",
    "    return pd.DataFrame(data = components, columns = colnames) \n",
    "\n",
    "\n",
    "def display_components_in_2D_space(components_df, labels='category', marker='D'):\n",
    "    \n",
    "    groups = components_df.groupby(labels)\n",
    "\n",
    "    # Plot\n",
    "    fig, ax = plt.subplots(figsize=(12,8))\n",
    "    ax.margins(0.05) # Optional, just adds 5% padding to the autoscaling\n",
    "    for name, group in groups:\n",
    "        ax.plot(group.component_1, group.component_2, \n",
    "                marker='o', ms=6,\n",
    "                linestyle='',\n",
    "                alpha=0.7,\n",
    "                label=name)\n",
    "    ax.legend(loc='center left', bbox_to_anchor=(1.02, 0.5))\n",
    "\n",
    "    plt.xlabel('component_1')\n",
    "    plt.ylabel('component_2') \n",
    "    plt.show()"
   ]
  },
  {
   "cell_type": "code",
   "execution_count": 20,
   "metadata": {
    "id": "Gbb8mdmQIHys",
    "outputId": "af54bb77-0188-4a4b-85bc-d0bb144c47fc"
   },
   "outputs": [
    {
     "data": {
      "text/plain": [
       "(5001, 100)"
      ]
     },
     "execution_count": 20,
     "metadata": {},
     "output_type": "execute_result"
    }
   ],
   "source": [
    "model.item_factors.shape"
   ]
  },
  {
   "cell_type": "code",
   "execution_count": 21,
   "metadata": {
    "id": "xhT9pq1kIHyt"
   },
   "outputs": [],
   "source": [
    "category = []\n",
    "\n",
    "for idx in range(model.item_factors.shape[0]):\n",
    "\n",
    "    try:\n",
    "        cat = item_features.loc[item_features['item_id'] == id_to_itemid[idx], 'department'].values[0]\n",
    "        category.append(cat)\n",
    "    except:\n",
    "        category.append('UNKNOWN')"
   ]
  },
  {
   "cell_type": "code",
   "execution_count": 22,
   "metadata": {
    "id": "B8oxR_P0IHyt",
    "outputId": "9f7f6460-25fc-4d01-b1c0-37854888c692"
   },
   "outputs": [
    {
     "name": "stderr",
     "output_type": "stream",
     "text": [
      "/home/pavel/anaconda3/lib/python3.9/site-packages/sklearn/manifold/_t_sne.py:780: FutureWarning: The default initialization in TSNE will change from 'random' to 'pca' in 1.2.\n",
      "  warnings.warn(\n"
     ]
    },
    {
     "data": {
      "image/png": "[encoded data removed]",
      "text/plain": [
       "<Figure size 864x576 with 1 Axes>"
      ]
     },
     "metadata": {
      "needs_background": "light"
     },
     "output_type": "display_data"
    },
    {
     "name": "stdout",
     "output_type": "stream",
     "text": [
      "CPU times: user 1min 45s, sys: 976 ms, total: 1min 46s\n",
      "Wall time: 14.6 s\n"
     ]
    }
   ],
   "source": [
    "%%time\n",
    "item_emb_tsne = reduce_dims(model.item_factors, dims=2, method='tsne') # 5001 х 100  ---> 5001 x 2\n",
    "item_emb_tsne['category'] = category  # Добавляем категорию\n",
    "item_emb_tsne = item_emb_tsne[item_emb_tsne['category'] != 'UNKNOWN']\n",
    "\n",
    "display_components_in_2D_space(item_emb_tsne, labels='category')"
   ]
  },
  {
   "cell_type": "markdown",
   "metadata": {
    "id": "21LfCjpxIHyt"
   },
   "source": [
    "Нарисуем все, кроме GROCERY"
   ]
  },
  {
   "cell_type": "code",
   "execution_count": 23,
   "metadata": {
    "id": "BNy3Fb1DIHyu",
    "outputId": "cd92302c-3a4e-4345-9c8e-e95a4fa44770"
   },
   "outputs": [
    {
     "data": {
      "image/png": "[encoded data removed]",
      "text/plain": [
       "<Figure size 864x576 with 1 Axes>"
      ]
     },
     "metadata": {
      "needs_background": "light"
     },
     "output_type": "display_data"
    }
   ],
   "source": [
    "display_components_in_2D_space(item_emb_tsne[item_emb_tsne['category'] != 'GROCERY'], labels='category')"
   ]
  },
  {
   "cell_type": "markdown",
   "metadata": {
    "id": "DxZJ7HCOIHyu"
   },
   "source": [
    "Нарисуем несколько конкретных категорий"
   ]
  },
  {
   "cell_type": "code",
   "execution_count": 24,
   "metadata": {
    "id": "FeQlyTdTIHyu",
    "outputId": "e6aab935-1525-4202-b2a4-f2a352fd17e3"
   },
   "outputs": [
    {
     "data": {
      "image/png": "[encoded data removed]",
      "text/plain": [
       "<Figure size 864x576 with 1 Axes>"
      ]
     },
     "metadata": {
      "needs_background": "light"
     },
     "output_type": "display_data"
    }
   ],
   "source": [
    "interesting_cats = ['PASTRY', 'PRODUCE', 'DRUG GM', 'FLORAL']\n",
    "\n",
    "display_components_in_2D_space(item_emb_tsne[item_emb_tsne['category'].isin(interesting_cats)], \n",
    "                                             labels='category')"
   ]
  },
  {
   "cell_type": "markdown",
   "metadata": {
    "id": "eelXXrgiIHyv"
   },
   "source": [
    "На самом деле, я бы сказал, что **результат средний**:\n",
    "- Модель выучила похожесть только небольшой части товаров"
   ]
  },
  {
   "cell_type": "code",
   "execution_count": 25,
   "metadata": {
    "id": "xK9UDIfsIHyv",
    "outputId": "ef3fab8f-4734-4ad1-e47a-f7400e19ca81"
   },
   "outputs": [
    {
     "data": {
      "text/html": [
       "<div>\n",
       "<style scoped>\n",
       "    .dataframe tbody tr th:only-of-type {\n",
       "        vertical-align: middle;\n",
       "    }\n",
       "\n",
       "    .dataframe tbody tr th {\n",
       "        vertical-align: top;\n",
       "    }\n",
       "\n",
       "    .dataframe thead th {\n",
       "        text-align: right;\n",
       "    }\n",
       "</style>\n",
       "<table border=\"1\" class=\"dataframe\">\n",
       "  <thead>\n",
       "    <tr style=\"text-align: right;\">\n",
       "      <th></th>\n",
       "      <th>component_1</th>\n",
       "      <th>component_2</th>\n",
       "      <th>category</th>\n",
       "    </tr>\n",
       "  </thead>\n",
       "  <tbody>\n",
       "    <tr>\n",
       "      <th>0</th>\n",
       "      <td>2.767262</td>\n",
       "      <td>0.892935</td>\n",
       "      <td>MISC SALES TRAN</td>\n",
       "    </tr>\n",
       "    <tr>\n",
       "      <th>1</th>\n",
       "      <td>1.596807</td>\n",
       "      <td>1.622279</td>\n",
       "      <td>KIOSK-GAS</td>\n",
       "    </tr>\n",
       "  </tbody>\n",
       "</table>\n",
       "</div>"
      ],
      "text/plain": [
       "   component_1  component_2         category\n",
       "0     2.767262     0.892935  MISC SALES TRAN\n",
       "1     1.596807     1.622279        KIOSK-GAS"
      ]
     },
     "execution_count": 25,
     "metadata": {},
     "output_type": "execute_result"
    }
   ],
   "source": [
    "item_emb_tsne.head(2)"
   ]
  },
  {
   "cell_type": "markdown",
   "metadata": {
    "id": "EQOQN7D5IHyw"
   },
   "source": [
    "recommend_all делает перемножение, но еще и сортирует и выбирает топ-N"
   ]
  },
  {
   "cell_type": "code",
   "execution_count": 26,
   "metadata": {
    "colab": {
     "referenced_widgets": [
      "7d500b748414417f93b8f936f582ba96"
     ]
    },
    "id": "s8sUJSCzIHyw",
    "outputId": "192a9709-cc88-4492-d321-8e2063e1ec67"
   },
   "outputs": [
    {
     "data": {
      "application/vnd.jupyter.widget-view+json": {
       "model_id": "afa7e74530164c559436122cef2fbcd0",
       "version_major": 2,
       "version_minor": 0
      },
      "text/plain": [
       "  0%|          | 0/2500 [00:00<?, ?it/s]"
      ]
     },
     "metadata": {},
     "output_type": "display_data"
    },
    {
     "name": "stdout",
     "output_type": "stream",
     "text": [
      "CPU times: user 20.3 s, sys: 76.5 ms, total: 20.4 s\n",
      "Wall time: 15.3 s\n"
     ]
    }
   ],
   "source": [
    "%%time\n",
    "recommendations = model.recommend_all(N=5, \n",
    "                                      user_items=csr_matrix(user_item_matrix).tocsr(),\n",
    "                                      filter_already_liked_items=True, \n",
    "                                      filter_items=None, \n",
    "                                      recalculate_user=True,\n",
    "                                      show_progress=True,\n",
    "                                      batch_size=500)"
   ]
  },
  {
   "cell_type": "code",
   "execution_count": 27,
   "metadata": {
    "id": "ZqpPTlojIHyx"
   },
   "outputs": [],
   "source": [
    "item_1 = model.item_factors[1]\n",
    "item_2 = model.item_factors[2]"
   ]
  },
  {
   "cell_type": "markdown",
   "metadata": {
    "id": "IDtmV7QxIHyx"
   },
   "source": [
    "*Посмотрите также / Похожие товары*"
   ]
  },
  {
   "cell_type": "code",
   "execution_count": 28,
   "metadata": {
    "id": "FG43lphYIHyx",
    "outputId": "c548ef47-f17c-4000-a4cf-3826e088f08b"
   },
   "outputs": [
    {
     "data": {
      "text/plain": [
       "[(1, 0.99999994),\n",
       " (2, 0.75038165),\n",
       " (5, 0.68768346),\n",
       " (893, 0.682663),\n",
       " (0, 0.6790332)]"
      ]
     },
     "execution_count": 28,
     "metadata": {},
     "output_type": "execute_result"
    }
   ],
   "source": [
    "model.similar_items(1, N=5)"
   ]
  },
  {
   "cell_type": "markdown",
   "metadata": {
    "id": "z3kvH35nIHyy"
   },
   "source": [
    "*Вашим друзьям нравится / Похожим пользователям нравится / ...*"
   ]
  },
  {
   "cell_type": "markdown",
   "metadata": {
    "id": "I6pbr6dUIHyy"
   },
   "source": [
    "Пользователь --> похожих пользовтелей --> рекомендовать те товары, которые купили похожие юзеры"
   ]
  },
  {
   "cell_type": "code",
   "execution_count": 29,
   "metadata": {
    "id": "StEG6KrkIHyy",
    "outputId": "78aef638-88ce-4a7f-d430-3fef25cdbc12"
   },
   "outputs": [
    {
     "data": {
      "text/plain": [
       "[(9, 0.9999999),\n",
       " (354, 0.9719294),\n",
       " (790, 0.9718336),\n",
       " (1380, 0.9690773),\n",
       " (1655, 0.96708167)]"
      ]
     },
     "execution_count": 29,
     "metadata": {},
     "output_type": "execute_result"
    }
   ],
   "source": [
    "model.similar_users(userid_to_id[10], N=5)"
   ]
  },
  {
   "cell_type": "markdown",
   "metadata": {
    "id": "dpSbiUfUIHyz"
   },
   "source": [
    "### 2. TF-IDF взвешивание"
   ]
  },
  {
   "cell_type": "code",
   "execution_count": 30,
   "metadata": {
    "id": "4hA_6DX7IHyz"
   },
   "outputs": [],
   "source": [
    "user_item_matrix = tfidf_weight(user_item_matrix.T).T  # Применяется к item-user матрице ! "
   ]
  },
  {
   "cell_type": "code",
   "execution_count": 31,
   "metadata": {
    "colab": {
     "referenced_widgets": [
      "6fee8130b62245e0b0a0597124b6c3ac"
     ]
    },
    "id": "baK0yoTwIHyz",
    "outputId": "16a60037-5061-44f4-9f7e-8a431bb55b43"
   },
   "outputs": [
    {
     "data": {
      "application/vnd.jupyter.widget-view+json": {
       "model_id": "7127601c79d84468a96bc26eec73acc9",
       "version_major": 2,
       "version_minor": 0
      },
      "text/plain": [
       "  0%|          | 0/15 [00:00<?, ?it/s]"
      ]
     },
     "metadata": {},
     "output_type": "display_data"
    },
    {
     "name": "stdout",
     "output_type": "stream",
     "text": [
      "CPU times: user 1min 3s, sys: 606 ms, total: 1min 4s\n",
      "Wall time: 16.1 s\n"
     ]
    },
    {
     "data": {
      "text/plain": [
       "0.15389251632345358"
      ]
     },
     "execution_count": 31,
     "metadata": {},
     "output_type": "execute_result"
    }
   ],
   "source": [
    "%%time\n",
    "\n",
    "model = AlternatingLeastSquares(factors=100, \n",
    "                                regularization=0.001,\n",
    "                                iterations=15, \n",
    "                                calculate_training_loss=True, \n",
    "                                num_threads=4)\n",
    "\n",
    "model.fit(csr_matrix(user_item_matrix).T.tocsr(),  # На вход item-user matrix\n",
    "          show_progress=True)\n",
    "\n",
    "result['als_tfidf'] = result['user_id'].apply(lambda x: get_recommendations(x, model=model, N=5))\n",
    "\n",
    "result.apply(lambda row: precision_at_k(row['als_tfidf'], row['actual']), axis=1).mean()"
   ]
  },
  {
   "cell_type": "markdown",
   "metadata": {
    "id": "6Xw80BaLIHyz"
   },
   "source": [
    "### 3. BM25 взвешивание"
   ]
  },
  {
   "cell_type": "code",
   "execution_count": 32,
   "metadata": {
    "id": "CyNl4rkjIHy0",
    "outputId": "067712af-e22d-4b99-a418-747ee026b72d"
   },
   "outputs": [
    {
     "data": {
      "text/html": [
       "<div>\n",
       "<style scoped>\n",
       "    .dataframe tbody tr th:only-of-type {\n",
       "        vertical-align: middle;\n",
       "    }\n",
       "\n",
       "    .dataframe tbody tr th {\n",
       "        vertical-align: top;\n",
       "    }\n",
       "\n",
       "    .dataframe thead th {\n",
       "        text-align: right;\n",
       "    }\n",
       "</style>\n",
       "<table border=\"1\" class=\"dataframe\">\n",
       "  <thead>\n",
       "    <tr style=\"text-align: right;\">\n",
       "      <th>item_id</th>\n",
       "      <th>202291</th>\n",
       "      <th>397896</th>\n",
       "      <th>420647</th>\n",
       "      <th>480014</th>\n",
       "      <th>545926</th>\n",
       "      <th>707683</th>\n",
       "      <th>731106</th>\n",
       "      <th>818980</th>\n",
       "      <th>819063</th>\n",
       "      <th>819227</th>\n",
       "      <th>...</th>\n",
       "      <th>15926885</th>\n",
       "      <th>15926886</th>\n",
       "      <th>15926887</th>\n",
       "      <th>15926927</th>\n",
       "      <th>15927033</th>\n",
       "      <th>15927403</th>\n",
       "      <th>15927661</th>\n",
       "      <th>15927850</th>\n",
       "      <th>16809471</th>\n",
       "      <th>17105257</th>\n",
       "    </tr>\n",
       "    <tr>\n",
       "      <th>user_id</th>\n",
       "      <th></th>\n",
       "      <th></th>\n",
       "      <th></th>\n",
       "      <th></th>\n",
       "      <th></th>\n",
       "      <th></th>\n",
       "      <th></th>\n",
       "      <th></th>\n",
       "      <th></th>\n",
       "      <th></th>\n",
       "      <th></th>\n",
       "      <th></th>\n",
       "      <th></th>\n",
       "      <th></th>\n",
       "      <th></th>\n",
       "      <th></th>\n",
       "      <th></th>\n",
       "      <th></th>\n",
       "      <th></th>\n",
       "      <th></th>\n",
       "      <th></th>\n",
       "    </tr>\n",
       "  </thead>\n",
       "  <tbody>\n",
       "    <tr>\n",
       "      <th>1</th>\n",
       "      <td>0.0</td>\n",
       "      <td>0.0</td>\n",
       "      <td>0.0</td>\n",
       "      <td>0.0</td>\n",
       "      <td>0.0</td>\n",
       "      <td>0.0</td>\n",
       "      <td>0.0</td>\n",
       "      <td>0.0</td>\n",
       "      <td>0.0</td>\n",
       "      <td>0.0</td>\n",
       "      <td>...</td>\n",
       "      <td>0.0</td>\n",
       "      <td>0.0</td>\n",
       "      <td>0.0</td>\n",
       "      <td>2.0</td>\n",
       "      <td>0.0</td>\n",
       "      <td>0.0</td>\n",
       "      <td>0.0</td>\n",
       "      <td>0.0</td>\n",
       "      <td>0.0</td>\n",
       "      <td>0.0</td>\n",
       "    </tr>\n",
       "    <tr>\n",
       "      <th>2</th>\n",
       "      <td>0.0</td>\n",
       "      <td>0.0</td>\n",
       "      <td>0.0</td>\n",
       "      <td>0.0</td>\n",
       "      <td>0.0</td>\n",
       "      <td>0.0</td>\n",
       "      <td>0.0</td>\n",
       "      <td>0.0</td>\n",
       "      <td>0.0</td>\n",
       "      <td>0.0</td>\n",
       "      <td>...</td>\n",
       "      <td>0.0</td>\n",
       "      <td>0.0</td>\n",
       "      <td>0.0</td>\n",
       "      <td>1.0</td>\n",
       "      <td>0.0</td>\n",
       "      <td>0.0</td>\n",
       "      <td>0.0</td>\n",
       "      <td>0.0</td>\n",
       "      <td>0.0</td>\n",
       "      <td>0.0</td>\n",
       "    </tr>\n",
       "    <tr>\n",
       "      <th>3</th>\n",
       "      <td>0.0</td>\n",
       "      <td>0.0</td>\n",
       "      <td>0.0</td>\n",
       "      <td>0.0</td>\n",
       "      <td>0.0</td>\n",
       "      <td>0.0</td>\n",
       "      <td>0.0</td>\n",
       "      <td>0.0</td>\n",
       "      <td>0.0</td>\n",
       "      <td>0.0</td>\n",
       "      <td>...</td>\n",
       "      <td>0.0</td>\n",
       "      <td>0.0</td>\n",
       "      <td>0.0</td>\n",
       "      <td>0.0</td>\n",
       "      <td>0.0</td>\n",
       "      <td>0.0</td>\n",
       "      <td>0.0</td>\n",
       "      <td>0.0</td>\n",
       "      <td>0.0</td>\n",
       "      <td>0.0</td>\n",
       "    </tr>\n",
       "  </tbody>\n",
       "</table>\n",
       "<p>3 rows × 5001 columns</p>\n",
       "</div>"
      ],
      "text/plain": [
       "item_id  202291    397896    420647    480014    545926    707683    731106    \\\n",
       "user_id                                                                         \n",
       "1             0.0       0.0       0.0       0.0       0.0       0.0       0.0   \n",
       "2             0.0       0.0       0.0       0.0       0.0       0.0       0.0   \n",
       "3             0.0       0.0       0.0       0.0       0.0       0.0       0.0   \n",
       "\n",
       "item_id  818980    819063    819227    ...  15926885  15926886  15926887  \\\n",
       "user_id                                ...                                 \n",
       "1             0.0       0.0       0.0  ...       0.0       0.0       0.0   \n",
       "2             0.0       0.0       0.0  ...       0.0       0.0       0.0   \n",
       "3             0.0       0.0       0.0  ...       0.0       0.0       0.0   \n",
       "\n",
       "item_id  15926927  15927033  15927403  15927661  15927850  16809471  17105257  \n",
       "user_id                                                                        \n",
       "1             2.0       0.0       0.0       0.0       0.0       0.0       0.0  \n",
       "2             1.0       0.0       0.0       0.0       0.0       0.0       0.0  \n",
       "3             0.0       0.0       0.0       0.0       0.0       0.0       0.0  \n",
       "\n",
       "[3 rows x 5001 columns]"
      ]
     },
     "execution_count": 32,
     "metadata": {},
     "output_type": "execute_result"
    }
   ],
   "source": [
    "# Заведем фиктивный item_id (если юзер покупал товары из топ-5000, то он \"купил\" такой товар)\n",
    "data_train.loc[~data_train['item_id'].isin(top_5000), 'item_id'] = 999999\n",
    "\n",
    "user_item_matrix = pd.pivot_table(data_train, \n",
    "                                  index='user_id', columns='item_id', \n",
    "                                  values='quantity', # Можно пробоват ьдругие варианты\n",
    "                                  aggfunc='count', \n",
    "                                  fill_value=0\n",
    "                                 )\n",
    "\n",
    "user_item_matrix = user_item_matrix.astype(float) # необходимый тип матрицы для implicit\n",
    "\n",
    "# переведем в формат saprse matrix\n",
    "sparse_user_item = csr_matrix(user_item_matrix).tocsr()\n",
    "\n",
    "user_item_matrix.head(3)"
   ]
  },
  {
   "cell_type": "code",
   "execution_count": 33,
   "metadata": {
    "id": "0yalYjMvIHy0"
   },
   "outputs": [],
   "source": [
    "user_item_matrix = bm25_weight(user_item_matrix.T).T  # Применяется к item-user матрице ! "
   ]
  },
  {
   "cell_type": "code",
   "execution_count": 34,
   "metadata": {
    "colab": {
     "referenced_widgets": [
      "4ed4a23e566645f49a4257ead85d177a"
     ]
    },
    "id": "aixME0BeIHy0",
    "outputId": "8777a5af-c636-4e2b-e315-eb413f7ba346"
   },
   "outputs": [
    {
     "data": {
      "application/vnd.jupyter.widget-view+json": {
       "model_id": "c6d29fb2f3514bbab949b27da6e21384",
       "version_major": 2,
       "version_minor": 0
      },
      "text/plain": [
       "  0%|          | 0/15 [00:00<?, ?it/s]"
      ]
     },
     "metadata": {},
     "output_type": "display_data"
    },
    {
     "name": "stdout",
     "output_type": "stream",
     "text": [
      "CPU times: user 1min 4s, sys: 570 ms, total: 1min 4s\n",
      "Wall time: 16.2 s\n"
     ]
    },
    {
     "data": {
      "text/plain": [
       "0.1871421396283248"
      ]
     },
     "execution_count": 34,
     "metadata": {},
     "output_type": "execute_result"
    }
   ],
   "source": [
    "%%time\n",
    "\n",
    "model = AlternatingLeastSquares(factors=100, \n",
    "                                regularization=0.001,\n",
    "                                iterations=15, \n",
    "                                calculate_training_loss=True, \n",
    "                                num_threads=4) # K - кол-во билжайших соседей\n",
    "\n",
    "model.fit(csr_matrix(user_item_matrix).T.tocsr(),  # На вход item-user matrix\n",
    "          show_progress=True)\n",
    "\n",
    "result['als_bm25'] = result['user_id'].apply(lambda x: get_recommendations(x, model=model, N=5))\n",
    "\n",
    "result.apply(lambda row: precision_at_k(row['als_bm25'], row['actual']), axis=1).mean()"
   ]
  },
  {
   "cell_type": "code",
   "execution_count": 36,
   "metadata": {
    "id": "eq8DV_vtIHy1"
   },
   "outputs": [],
   "source": [
    "# result.to_csv('../predictions/predictions_cf.csv', index=False)  # cf - collaborative filtering"
   ]
  },
  {
   "cell_type": "markdown",
   "metadata": {
    "id": "749_a1hBIHy1"
   },
   "source": [
    "## 4. Важно искать оптимальные параметры"
   ]
  },
  {
   "cell_type": "markdown",
   "metadata": {
    "id": "mBdRhScQIHy1"
   },
   "source": [
    "- regularization, iterations\n",
    "- factors\n",
    "- Вес (элемент в матрице user-item)"
   ]
  },
  {
   "cell_type": "markdown",
   "metadata": {
    "id": "aTJVsOhrIHy1"
   },
   "source": [
    "-----"
   ]
  },
  {
   "cell_type": "markdown",
   "metadata": {
    "id": "IgTrX7hAIHy2"
   },
   "source": [
    "# Production"
   ]
  },
  {
   "cell_type": "markdown",
   "metadata": {
    "id": "_BlVIuo8IHy2"
   },
   "source": [
    "Начиная с этого вебинара, мы будем строить *базовое решение* для системы рекомендаций топ-N товаров. В финальном проекте вам нужно будет его сущесвтенно улучшить.  \n",
    "  \n",
    "**Ситуация**: Вы работает data scientist в крупном продуктовом российском ритейлере iFood. Ваш конкурент сделал рекомендательную систему, и его продажи выросли. Ваш менеджмент тоже хочет увеличить продажи   \n",
    "**Задача со слов менеджера**: Сделайте рекомендательную систему топ-10 товаров для рассылки по e-mail"
   ]
  },
  {
   "cell_type": "markdown",
   "metadata": {
    "id": "0O0XT3Y5IHy2"
   },
   "source": [
    "**Ожидание:**\n",
    "- Отправляем e-mail с топ-10 товарами, отсортированными по вероятности\n",
    "\n",
    "**Реальность:**\n",
    "- Чего хочет менеджер от рекомендательной системы? (рост показателя X на Y% за Z недель)\n",
    "- По-хорошему надо бы предварительно посчитать потенциальный эффект от рекоммендательной системы (Оценки эффектов у менеджера и у вас могут сильно не совпадать: как правило, вы знаете про данные больше)\n",
    "- А у нас вообще есть e-mail-ы пользователей? Для скольки %? Не устарели ли они?\n",
    "- Будем ли использовать СМС и push-уведомления в приложении? Может, будем печатать рекомендации на чеке после оплаты на кассе?\n",
    "- Как будет выглядеть e-mail? (решаем задачу топ-10 рекомендаций или ранжирования? И топ-10 ли?)\n",
    "- Какие товары должны быть в e-mail? Есть ли какие-то ограничения (только акции и т п)?\n",
    "- Сколько денег мы готовы потратить на привлечение 1 юзера? CAC - Customer Aquisition Cost. Обычно CAC = расходы на коммуникацию + расходы на скидки\n",
    "- Cколько мы хотим зарабатывать с одного привлеченного юзера?\n",
    "---\n",
    "- А точно нужно сортировать по вероятности?\n",
    "- Какую метрику использовать?\n",
    "- Сколько раз в неделю отпрпавляем рассылку?\n",
    "- В какое время отправляем рассылку?\n",
    "- Будем отправлять одному юзеру много раз наши рекоммендации. Как добиться того, чтобы они хоть немного отличались?\n",
    "- Нужно ли, чтобы в одной рассылке были *разные* товары? Как определить, что товары *разные*? Как добиться того, чтобы они были разными?\n",
    "- И многое другое:)"
   ]
  },
  {
   "cell_type": "markdown",
   "metadata": {
    "id": "QQN2KT7JIHy2"
   },
   "source": [
    "**В итоге договорились, что:**\n",
    "- Хотим повысить выручку минимум на 6% за 4 месяца. Будем повышать за счет роста Retention минимум на  3% и среднего чека минимум на 3%\n",
    "- Топ-5 товаров, а не топ-10 (В e-mail 10 выглядят не красиво, в push и на чек больше 5 не влязает)\n",
    "- Рассылаем в e-mail (5% клиентов) и push-уведомлении (20% клиентов), печатаем на чеке (все оффлайн клиенты)\n",
    "- **3 товара с акцией** (Как это учесть? А если на товар была акция 10%, а потом 50%, что будет стоять в user-item матрице?)\n",
    "- **1 новый товар** (юзер никогда не покупал. Просто фильтруем аутпут ALS? А если у таких товаров очень маленькая вероятность покупки? Может, использовать другую логику/модель?) \n",
    "- **1 товар для роста среднего чека** (товары минимум дороже чем обычно покупает юзер. Как это измерить? На сколько дороже?)"
   ]
  },
  {
   "cell_type": "markdown",
   "metadata": {
    "id": "TJVGydM9IHy2"
   },
   "source": [
    "Вопросов стало еще больше. Поэтому сначала делаем **MVP** (Minimum viable product) на e-mail. Показываем его менеджеру, измеряем метрики на юзерах. По фидбеку и метрикам делаем улучшения MVP и раскатываем его на push-уведомления и чеки\n",
    "\n",
    "*Data Science проект* - итеративный процесс!"
   ]
  },
  {
   "cell_type": "code",
   "execution_count": 37,
   "metadata": {
    "id": "rA7g4mL8IHy3",
    "outputId": "ecf022e0-c283-4cb8-ccec-611f9cdbedad"
   },
   "outputs": [
    {
     "data": {
      "text/html": [
       "<div>\n",
       "<style scoped>\n",
       "    .dataframe tbody tr th:only-of-type {\n",
       "        vertical-align: middle;\n",
       "    }\n",
       "\n",
       "    .dataframe tbody tr th {\n",
       "        vertical-align: top;\n",
       "    }\n",
       "\n",
       "    .dataframe thead th {\n",
       "        text-align: right;\n",
       "    }\n",
       "</style>\n",
       "<table border=\"1\" class=\"dataframe\">\n",
       "  <thead>\n",
       "    <tr style=\"text-align: right;\">\n",
       "      <th></th>\n",
       "      <th>user_id</th>\n",
       "      <th>basket_id</th>\n",
       "      <th>day</th>\n",
       "      <th>item_id</th>\n",
       "      <th>quantity</th>\n",
       "      <th>sales_value</th>\n",
       "      <th>store_id</th>\n",
       "      <th>retail_disc</th>\n",
       "      <th>trans_time</th>\n",
       "      <th>week_no</th>\n",
       "      <th>coupon_disc</th>\n",
       "      <th>coupon_match_disc</th>\n",
       "    </tr>\n",
       "  </thead>\n",
       "  <tbody>\n",
       "    <tr>\n",
       "      <th>0</th>\n",
       "      <td>2375</td>\n",
       "      <td>26984851472</td>\n",
       "      <td>1</td>\n",
       "      <td>1004906</td>\n",
       "      <td>1</td>\n",
       "      <td>1.39</td>\n",
       "      <td>364</td>\n",
       "      <td>-0.6</td>\n",
       "      <td>1631</td>\n",
       "      <td>1</td>\n",
       "      <td>0.0</td>\n",
       "      <td>0.0</td>\n",
       "    </tr>\n",
       "    <tr>\n",
       "      <th>1</th>\n",
       "      <td>2375</td>\n",
       "      <td>26984851472</td>\n",
       "      <td>1</td>\n",
       "      <td>1033142</td>\n",
       "      <td>1</td>\n",
       "      <td>0.82</td>\n",
       "      <td>364</td>\n",
       "      <td>0.0</td>\n",
       "      <td>1631</td>\n",
       "      <td>1</td>\n",
       "      <td>0.0</td>\n",
       "      <td>0.0</td>\n",
       "    </tr>\n",
       "  </tbody>\n",
       "</table>\n",
       "</div>"
      ],
      "text/plain": [
       "   user_id    basket_id  day  item_id  quantity  sales_value  store_id  \\\n",
       "0     2375  26984851472    1  1004906         1         1.39       364   \n",
       "1     2375  26984851472    1  1033142         1         0.82       364   \n",
       "\n",
       "   retail_disc  trans_time  week_no  coupon_disc  coupon_match_disc  \n",
       "0         -0.6        1631        1          0.0                0.0  \n",
       "1          0.0        1631        1          0.0                0.0  "
      ]
     },
     "execution_count": 37,
     "metadata": {},
     "output_type": "execute_result"
    }
   ],
   "source": [
    "data_train.head(2)"
   ]
  },
  {
   "cell_type": "code",
   "execution_count": 38,
   "metadata": {
    "id": "Ng_OBqaJIHy3",
    "outputId": "9b8bd811-80b7-47f1-bf70-58c51c48fc17"
   },
   "outputs": [
    {
     "name": "stderr",
     "output_type": "stream",
     "text": [
      "/tmp/ipykernel_6506/1027606932.py:1: SettingWithCopyWarning: \n",
      "A value is trying to be set on a copy of a slice from a DataFrame.\n",
      "Try using .loc[row_indexer,col_indexer] = value instead\n",
      "\n",
      "See the caveats in the documentation: https://pandas.pydata.org/pandas-docs/stable/user_guide/indexing.html#returning-a-view-versus-a-copy\n",
      "  data_train['price'] = data_train['sales_value'] / (np.maximum(data_train['quantity'], 1))\n"
     ]
    },
    {
     "data": {
      "text/plain": [
       "499.99"
      ]
     },
     "execution_count": 38,
     "metadata": {},
     "output_type": "execute_result"
    }
   ],
   "source": [
    "data_train['price'] = data_train['sales_value'] / (np.maximum(data_train['quantity'], 1))\n",
    "data_train['price'].max()"
   ]
  },
  {
   "cell_type": "code",
   "execution_count": 39,
   "metadata": {
    "id": "fO-CqBT4IHy3",
    "outputId": "5fad70dd-f1ae-4cb2-9e1f-dab3484d4919"
   },
   "outputs": [
    {
     "data": {
      "text/plain": [
       "0.99"
      ]
     },
     "execution_count": 39,
     "metadata": {},
     "output_type": "execute_result"
    }
   ],
   "source": [
    "# < 1$\n",
    "data_train['price'].quantile(0.20)"
   ]
  },
  {
   "cell_type": "code",
   "execution_count": 40,
   "metadata": {
    "id": "3kBJJ2s3IHy4",
    "outputId": "253ef171-4dd8-42f8-c912-9deb792dd597"
   },
   "outputs": [
    {
     "data": {
      "text/plain": [
       "84.8129592499882"
      ]
     },
     "execution_count": 40,
     "metadata": {},
     "output_type": "execute_result"
    }
   ],
   "source": [
    "# > 100$\n",
    "data_train['price'].quantile(0.99995)"
   ]
  },
  {
   "cell_type": "code",
   "execution_count": 41,
   "metadata": {
    "id": "oAK7h-0CIHy4"
   },
   "outputs": [],
   "source": [
    "def prefilter_items(data):\n",
    "    # Уберем самые популярные товары (их и так купят)\n",
    "    popularity = data_train.groupby('item_id')['user_id'].nunique().reset_index() / data_train['user_id'].nunique()\n",
    "    popularity.rename(columns={'user_id': 'share_unique_users'}, inplace=True)\n",
    "    \n",
    "    top_popular = popularity[popularity['share_unique_users'] > 0.5].item_id.tolist()\n",
    "    data = data[~data['item_id'].isin(top_popular)]\n",
    "    \n",
    "    # Уберем самые НЕ популярные товары (их и так НЕ купят)\n",
    "    top_notpopular = popularity[popularity['share_unique_users'] < 0.01].item_id.tolist()\n",
    "    data = data[~data['item_id'].isin(top_notpopular)]\n",
    "    \n",
    "    # Уберем товары, которые не продавались за последние 12 месяцев\n",
    "    \n",
    "    # Уберем не интересные для рекоммендаций категории (department)\n",
    "    \n",
    "    # Уберем слишком дешевые товары (на них не заработаем). 1 покупка из рассылок стоит 60 руб. \n",
    "    \n",
    "    # Уберем слишком дорогие товарыs\n",
    "    \n",
    "    # ...\n",
    "    \n",
    "def postfilter_items(user_id, recommednations):\n",
    "    pass"
   ]
  },
  {
   "cell_type": "markdown",
   "metadata": {
    "id": "OqYWeY14IHy4"
   },
   "source": [
    "Все эти функции отправим затем в *src.utils*"
   ]
  },
  {
   "cell_type": "markdown",
   "metadata": {
    "id": "sYnE0VsPIHy5"
   },
   "source": [
    "----"
   ]
  }
 ],
 "metadata": {
  "colab": {
   "name": "webinar_3.ipynb",
   "provenance": [],
   "toc_visible": true
  },
  "kernelspec": {
   "display_name": "recommended_course",
   "language": "python",
   "name": "recommended"
  },
  "language_info": {
   "codemirror_mode": {
    "name": "ipython",
    "version": 3
   },
   "file_extension": ".py",
   "mimetype": "text/x-python",
   "name": "python",
   "nbconvert_exporter": "python",
   "pygments_lexer": "ipython3",
   "version": "3.9.12"
  }
 },
 "nbformat": 4,
 "nbformat_minor": 1
}
